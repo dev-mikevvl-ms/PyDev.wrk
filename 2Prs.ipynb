{
 "cells": [
  {
   "cell_type": "markdown",
   "metadata": {},
   "source": [
    "# Python"
   ]
  },
  {
   "cell_type": "markdown",
   "metadata": {},
   "source": [
    "## import"
   ]
  },
  {
   "cell_type": "code",
   "execution_count": null,
   "metadata": {},
   "outputs": [],
   "source": [
    "import abc as ABC\n",
    "import collections as clts\n",
    "import collections.abc as abc\n",
    "import numbers as num\n",
    "import typing as typ\n",
    "\n",
    "import itertools as itts\n",
    "import operator as op\n",
    "import functools as futs"
   ]
  },
  {
   "cell_type": "markdown",
   "metadata": {},
   "source": [
    "## lang"
   ]
  },
  {
   "cell_type": "markdown",
   "metadata": {},
   "source": [
    "### iter"
   ]
  },
  {
   "cell_type": "code",
   "execution_count": null,
   "metadata": {},
   "outputs": [],
   "source": [
    "# len(iter)\n",
    "# https://stackoverflow.com/questions/390852/is-there-any-built-in-way-to-get-the-length-of-an-iterable-in-python\n",
    "def ilen_ff(la_it):\n",
    "  return sum(1 for _el in la_it)\n",
    "\n",
    "# https://stackoverflow.com/questions/5384570/whats-the-shortest-way-to-count-the-number-of-items-in-a-generator-iterator/34404546#34404546\n",
    "# # On Python 2 only, get zip that lazily generates results instead of returning list\n",
    "# from future_builtins import zip\n",
    "\n",
    "import collections as clts\n",
    "import itertools as itts\n",
    "\n",
    "\n",
    "# Avoid constructing a deque each time, reduces fixed overhead enough\n",
    "# that this beats the sum solution for all but length 0-1 inputs\n",
    "glConsumeAll_o = clts.deque(maxlen=0).extend\n",
    "\n",
    "def ilen_ff(la_it):\n",
    "    # Make a stateful counting iterator\n",
    "    loCo_it = itts.count()\n",
    "    # zip it with the input iterator, then drain until input exhausted at C level\n",
    "    glConsumeAll_o(zip(la_it, loCo_it)) # cnt must be second zip arg to avoid advancing too far\n",
    "    # Since count 0 based, the next value is the count\n",
    "    return next(loCo_it)\n",
    "    "
   ]
  }
 ],
 "metadata": {
  "kernelspec": {
   "display_name": "Python 3.10.5 64-bit",
   "language": "python",
   "name": "python3"
  },
  "language_info": {
   "name": "python",
   "version": "3.10.5"
  },
  "orig_nbformat": 4,
  "vscode": {
   "interpreter": {
    "hash": "26de051ba29f2982a8de78e945f0abaf191376122a1563185a90213a26c5da77"
   }
  }
 },
 "nbformat": 4,
 "nbformat_minor": 2
}
