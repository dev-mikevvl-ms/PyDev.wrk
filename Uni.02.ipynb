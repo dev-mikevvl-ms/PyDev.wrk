{
 "cells": [
  {
   "cell_type": "code",
   "execution_count": 6,
   "metadata": {},
   "outputs": [
    {
     "name": "stdout",
     "output_type": "stream",
     "text": [
      "sys:\n",
      "3.9.7 (default, Sep 16 2021, 16:59:28) [MSC v.1916 64 bit (AMD64)]\n",
      "sys.version_info(major=3, minor=9, micro=7, releaselevel='final', serial=0)\n",
      "1013\n",
      "C:\\ProgramData\\Anaconda3\n",
      "C:\\ProgramData\\Anaconda3\n",
      "\n",
      "site:\n",
      "['C:\\\\ProgramData\\\\Anaconda3', 'C:\\\\ProgramData\\\\Anaconda3\\\\lib\\\\site-packages']\n",
      "C:\\Users\\mikev\\AppData\\Roaming\\Python\\Python39\\site-packages\n",
      "C:\\Users\\mikev\\AppData\\Roaming\\Python\n"
     ]
    }
   ],
   "source": [
    "import sys, site\n",
    "print('sys:', sys.version, sys.version_info, sys.api_version, sys.prefix, sys.exec_prefix, '\\nsite:',\n",
    "    site.getsitepackages(), site.getusersitepackages(), site.getuserbase(), sep='\\n')"
   ]
  },
  {
   "cell_type": "markdown",
   "metadata": {},
   "source": [
    "## 01"
   ]
  },
  {
   "cell_type": "code",
   "execution_count": 1,
   "metadata": {},
   "outputs": [],
   "source": [
    "import requests\n",
    "import json\n",
    "from flask import Flask\n",
    "\n",
    "\n",
    "def get_valutes_list():\n",
    "    url = 'https://www.cbr-xml-daily.ru/daily_json.js'\n",
    "    response = requests.get(url)\n",
    "    data = json.loads(response.text)\n",
    "    valutes = list(data['Valute'].values())\n",
    "    return valutes\n",
    "\n",
    "# test\n",
    "app = Flask(__name__)\n",
    "\n",
    "\n",
    "def create_html(valutes):\n",
    "    text = '<h1>Курс валют</h1>'\n",
    "    text += '<table>'\n",
    "    text += '<tr>'\n",
    "    for _ in valutes[0]:\n",
    "        text += f'<th><th>'\n",
    "    text += '</tr>'\n",
    "    for valute in valutes:\n",
    "        text += '<tr>'\n",
    "        for v in valute.values():\n",
    "            text += f'<td>{v}</td>'\n",
    "        text += '</tr>'\n",
    "\n",
    "    text += '</table>'\n",
    "    return text\n",
    "\n",
    "\n",
    "@app.route(\"/\")\n",
    "def index():\n",
    "    valutes = get_valutes_list()\n",
    "    html = create_html(valutes)\n",
    "    return html\n",
    "\n",
    "\n",
    "# if __name__ == \"__main__\":\n",
    "#     app.run()"
   ]
  },
  {
   "cell_type": "code",
   "execution_count": 2,
   "metadata": {},
   "outputs": [
    {
     "ename": "NameError",
     "evalue": "name 'data' is not defined",
     "output_type": "error",
     "traceback": [
      "\u001b[1;31m---------------------------------------------------------------------------\u001b[0m",
      "\u001b[1;31mNameError\u001b[0m                                 Traceback (most recent call last)",
      "\u001b[1;32mC:\\Temp/ipykernel_14072/391604064.py\u001b[0m in \u001b[0;36m<module>\u001b[1;34m\u001b[0m\n\u001b[1;32m----> 1\u001b[1;33m \u001b[0mdata\u001b[0m\u001b[1;33m\u001b[0m\u001b[1;33m\u001b[0m\u001b[0m\n\u001b[0m",
      "\u001b[1;31mNameError\u001b[0m: name 'data' is not defined"
     ]
    }
   ],
   "source": [
    "url = 'https://www.cbr-xml-daily.ru/daily_json.js'\n",
    "response = requests.get(url)\n",
    "data = json.loads(response.text)\n",
    "valutes = list(data['Valute'].values())\n",
    "\n",
    "data['Valute']['AUD']"
   ]
  },
  {
   "cell_type": "markdown",
   "metadata": {},
   "source": [
    "## 02"
   ]
  },
  {
   "cell_type": "code",
   "execution_count": null,
   "metadata": {},
   "outputs": [],
   "source": [
    "tSep_s = '_' *70\n"
   ]
  },
  {
   "cell_type": "code",
   "execution_count": 10,
   "metadata": {},
   "outputs": [
    {
     "name": "stdout",
     "output_type": "stream",
     "text": [
      "______________________________________________________________________\n",
      "\n",
      "Задача 1\n",
      "\n",
      "Вывести на экран циклом пять строк из нулей, причем каждая строка\n",
      " должна быть пронумерована.\n",
      "\n",
      "Res:\n",
      "______________________________________________________________________\n",
      "1 00000000000000000000000000000000000000000\n",
      "2 000000000000000000000000000000000000000000\n",
      "3 0000000000000000000000000000000000000000000\n",
      "4 00000000000000000000000000000000000000000000\n",
      "5 000000000000000000000000000000000000000000000\n",
      "______________________________________________________________________\n"
     ]
    }
   ],
   "source": [
    "tTskMsg_s = '''\n",
    "Задача 1\n",
    "\n",
    "Вывести на экран циклом пять строк из нулей, причем каждая строка\n",
    " должна быть пронумерована.\n",
    "'''\n",
    "print(tSep_s, tTskMsg_s, 'Res:', tSep_s, sep='\\n')\n",
    "\n",
    "tTime_co, tCnt_s, tLen_i = 5, '0', 40\n",
    "for l_co in range(1, tTime_co +1):\n",
    "  print(l_co, tCnt_s *(tLen_i +l_co))\n",
    "\n",
    "print(tSep_s)"
   ]
  },
  {
   "cell_type": "code",
   "execution_count": 14,
   "metadata": {},
   "outputs": [
    {
     "name": "stdout",
     "output_type": "stream",
     "text": [
      "______________________________________________________________________\n",
      "\n",
      "Задача 2\n",
      "\n",
      "Пользователь в цикле вводит 10 цифр. Найти количество введеных\n",
      " пользователем цифр 5.\n",
      "\n",
      "Res:\n",
      "______________________________________________________________________\n",
      "\tMSG: You input integer:'5'.\n",
      "MSG: There are 9 attempts left.\n",
      "\tERR: You input integer:'-66' but NOT OneOf(0, 1, 2, 3, 4, 5, 6, 7, 8, 9).\n",
      "MSG: There are 8 attempts left.\n",
      "\tERR: You input integer:'23' but NOT OneOf(0, 1, 2, 3, 4, 5, 6, 7, 8, 9).\n",
      "MSG: There are 7 attempts left.\n",
      "\tERR: You input:'aever' NOT integer - Exception:ValueError(invalid literal for int() with base 10: 'aever') raised.\n",
      "MSG: There are 6 attempts left.\n",
      "\tMSG: You input integer:'3'.\n",
      "MSG: There are 5 attempts left.\n",
      "\tMSG: You input integer:'5'.\n",
      "MSG: There are 4 attempts left.\n",
      "\tERR: You input integer:'44' but NOT OneOf(0, 1, 2, 3, 4, 5, 6, 7, 8, 9).\n",
      "MSG: There are 3 attempts left.\n",
      "\tMSG: You input integer:'1'.\n",
      "MSG: There are 2 attempts left.\n",
      "\tERR: You input integer:'10' but NOT OneOf(0, 1, 2, 3, 4, 5, 6, 7, 8, 9).\n",
      "MSG: There are 1 attempt left.\n",
      "\tMSG: You input integer:'0'.\n",
      "You input '5' 2 times of 10 attempts.\n",
      "______________________________________________________________________\n"
     ]
    }
   ],
   "source": [
    "tTskMsg_s = '''\n",
    "Задача 2\n",
    "\n",
    "Пользователь в цикле вводит 10 цифр. Найти количество введеных\n",
    " пользователем цифр 5.\n",
    "'''\n",
    "print(tSep_s, tTskMsg_s, 'Res:', tSep_s, sep='\\n')\n",
    "\n",
    "tTime_co, tPtt_i, tOk_co, tFls_co = 10, 5, 0, 0\n",
    "tValiV_t = tuple(range(0, 10))\n",
    "tCndInPMsg_s = f' Integer OneOf{tValiV_t}'\n",
    "tInPMsg_s = f\"Please, Input a{tCndInPMsg_s}\\n and press Enter: \"\n",
    "for l_co in range(tTime_co):\n",
    "  try:\n",
    "    li_s = input(tInPMsg_s)\n",
    "    liN_i = int(li_s)\n",
    "  except ValueError as leExc_o:\n",
    "    tFls_co +=1\n",
    "    print(f\"\\tERR: You input:'{li_s}' NOT integer\",\n",
    "        f'- Exception:{type(leExc_o).__name__}({leExc_o}) raised.')\n",
    "  else:\n",
    "    if liN_i not in tValiV_t:\n",
    "      tFls_co +=1\n",
    "      print(f\"\\tERR: You input integer:'{liN_i}'\",\n",
    "          f'but NOT OneOf{tValiV_t}.')\n",
    "    else:\n",
    "      print(f\"\\tMSG: You input integer:'{liN_i}'.\")\n",
    "      if liN_i == tPtt_i: tOk_co +=1\n",
    "  if l_co != (tTime_co -1):\n",
    "    t_s = '' if l_co == (tTime_co -2) else 's'\n",
    "    print(f'MSG: There are {tTime_co -l_co -1} attempt{t_s} left.')\n",
    "\n",
    "t_s = '' if tOk_co == 1 else 's'\n",
    "print(f\"You input '{tPtt_i}' {tOk_co} time{t_s} of {tTime_co} attempts.\")\n",
    "\n",
    "print(tSep_s)"
   ]
  },
  {
   "cell_type": "code",
   "execution_count": 15,
   "metadata": {},
   "outputs": [
    {
     "name": "stdout",
     "output_type": "stream",
     "text": [
      "______________________________________________________________________\n",
      "\n",
      "Задача 3\n",
      "\n",
      "Найти сумму ряда чисел от 1 до 100. Полученный результат вывести на экран.\n",
      "\n",
      "Res:\n",
      "______________________________________________________________________\n",
      "Summa:5050\n",
      "______________________________________________________________________\n"
     ]
    }
   ],
   "source": [
    "tTskMsg_s = '''\n",
    "Задача 3\n",
    "\n",
    "Найти сумму ряда чисел от 1 до 100. Полученный результат вывести на экран.\n",
    "'''\n",
    "print(tSep_s, tTskMsg_s, 'Res:', tSep_s, sep='\\n')\n",
    "\n",
    "tRa_t = (1, 101)\n",
    "print(f\"Summa:{sum(range(*tRa_t))}\")\n",
    "\n",
    "print(tSep_s)"
   ]
  },
  {
   "cell_type": "code",
   "execution_count": 30,
   "metadata": {},
   "outputs": [
    {
     "name": "stdout",
     "output_type": "stream",
     "text": [
      "______________________________________________________________________\n",
      "\n",
      "Задача 4\n",
      "\n",
      "Найти произведение ряда чисел от 1 до 10. Полученный результат вывести на экран.\n",
      "\n",
      "Res:\n",
      "______________________________________________________________________\n",
      "Production: 3628800 or 3628800 or 3628800\n",
      "______________________________________________________________________\n"
     ]
    }
   ],
   "source": [
    "tTskMsg_s = '''\n",
    "Задача 4\n",
    "\n",
    "Найти произведение ряда чисел от 1 до 10. Полученный результат вывести на экран.\n",
    "'''\n",
    "print(tSep_s, tTskMsg_s, 'Res:', tSep_s, sep='\\n')\n",
    "\n",
    "tCnt_it, tIni_i = range(1, 11), 1\n",
    "\n",
    "# Variant:1\n",
    "tProd_i = tIni_i # Che:!None |> tProd_i = 1|next(tCnt_it)\n",
    "if tProd_i:\n",
    "  for l_el in tCnt_it:\n",
    "    if l_el == 0:\n",
    "      tProd_i = 0\n",
    "      break\n",
    "    else:\n",
    "      tProd_i *=l_el\n",
    "else: tProd_i = 0\n",
    "\n",
    "import itertools as itts\n",
    "import operator as op\n",
    "# Variant:2\n",
    "tAccProd_t = tuple(itts.accumulate(tCnt_it, op.mul, initial=tIni_i))\n",
    "# Variant:3\n",
    "tProd3_i = tuple(itts.accumulate(tCnt_it, op.mul, initial=tIni_i))[-1]\n",
    "\n",
    "print(f\"Production: {tProd_i} or {tAccProd_t[-1]} or {tProd3_i}\")\n",
    "print(tSep_s)"
   ]
  },
  {
   "cell_type": "code",
   "execution_count": 35,
   "metadata": {},
   "outputs": [
    {
     "name": "stdout",
     "output_type": "stream",
     "text": [
      "______________________________________________________________________\n",
      "\n",
      "Задача 5\n",
      "\n",
      "Вывести цифры числа на каждой строчке.\n",
      "\n",
      "Res:\n",
      "______________________________________________________________________\n",
      "56410829 Left2Right:\n",
      "5\n",
      "6\n",
      "4\n",
      "1\n",
      "0\n",
      "8\n",
      "2\n",
      "9\n",
      "56410829 Right2Left:\n",
      "9\n",
      "2\n",
      "8\n",
      "0\n",
      "1\n",
      "4\n",
      "6\n",
      "5\n",
      "______________________________________________________________________\n"
     ]
    }
   ],
   "source": [
    "tTskMsg_s = '''\n",
    "Задача 5\n",
    "\n",
    "Вывести цифры числа на каждой строчке.\n",
    "'''\n",
    "print(tSep_s, tTskMsg_s, 'Res:', tSep_s, sep='\\n')\n",
    "\n",
    "tChe_i = 56410829\n",
    "# Variant:1\n",
    "print(f'{tChe_i} Left2Right:', *str(tChe_i), sep='\\n')\n",
    "\n",
    "# Variant:2\n",
    "print(f'{tChe_i} Right2Left:', *(str(tChe_i)[::-1]), sep='\\n')\n",
    "\n",
    "# print(f\"Production: {tProd_i} or {tAccProd_t[-1]} or {tProd3_i}\")\n",
    "print(tSep_s)"
   ]
  },
  {
   "cell_type": "code",
   "execution_count": 41,
   "metadata": {},
   "outputs": [
    {
     "name": "stdout",
     "output_type": "stream",
     "text": [
      "______________________________________________________________________\n",
      "\n",
      "Задача 6\n",
      "\n",
      "Найти сумму цифр числа.\n",
      "\n",
      "Res:\n",
      "______________________________________________________________________\n",
      "Summa: 35 or 35\n",
      "______________________________________________________________________\n"
     ]
    }
   ],
   "source": [
    "tTskMsg_s = '''\n",
    "Задача 6\n",
    "\n",
    "Найти сумму цифр числа.\n",
    "'''\n",
    "print(tSep_s, tTskMsg_s, 'Res:', tSep_s, sep='\\n')\n",
    "\n",
    "tChe_i = 56410829\n",
    "# Variant:1\n",
    "tDiv_i, tSum_i = divmod(tChe_i, 10)\n",
    "while tDiv_i:\n",
    "  tDiv_i, tRemain_i = divmod(tDiv_i, 10)\n",
    "  tSum_i += tRemain_i\n",
    "\n",
    "# Variant:2\n",
    "print(f'Summa: {tSum_i} or {sum(int(_s1) for _s1 in str(tChe_i))}')\n",
    "\n",
    "print(tSep_s)"
   ]
  },
  {
   "cell_type": "code",
   "execution_count": 56,
   "metadata": {},
   "outputs": [
    {
     "name": "stdout",
     "output_type": "stream",
     "text": [
      "______________________________________________________________________\n",
      "\n",
      "Задача 7\n",
      "\n",
      "Найти произведение цифр числа.\n",
      "\n",
      "Res:\n",
      "______________________________________________________________________\n",
      "Production: 17280 or 17280\n",
      "______________________________________________________________________\n"
     ]
    }
   ],
   "source": [
    "tTskMsg_s = '''\n",
    "Задача 7\n",
    "\n",
    "Найти произведение цифр числа.\n",
    "'''\n",
    "print(tSep_s, tTskMsg_s, 'Res:', tSep_s, sep='\\n')\n",
    "\n",
    "tChe_i = 56401829\n",
    "# Variant:1\n",
    "tDiv_i, tProd_i = divmod(tChe_i, 10)\n",
    "while tDiv_i and tProd_i:\n",
    "  tDiv_i, tRemain_i = divmod(tDiv_i, 10)\n",
    "  tProd_i *= tRemain_i\n",
    "\n",
    "import itertools as itts\n",
    "import operator as op\n",
    "# Variant:2\n",
    "print(f'Production: {tProd_i}',\n",
    "  f'or {tuple(itts.accumulate((int(_s1) for _s1 in str(tChe_i)), op.mul, initial=1))[-1]}')\n",
    "\n",
    "print(tSep_s)"
   ]
  },
  {
   "cell_type": "code",
   "execution_count": 65,
   "metadata": {},
   "outputs": [
    {
     "name": "stdout",
     "output_type": "stream",
     "text": [
      "______________________________________________________________________\n",
      "\n",
      "Задача 8\n",
      "\n",
      "Дать ответ на вопрос: есть ли среди цифр числа 5?\n",
      "\n",
      "Res:\n",
      "______________________________________________________________________\n",
      "Digit:'5' exist in Number:12532799865 in most left position:2\n",
      "______________________________________________________________________\n"
     ]
    }
   ],
   "source": [
    "tTskMsg_s = '''\n",
    "Задача 8\n",
    "\n",
    "Дать ответ на вопрос: есть ли среди цифр числа 5?\n",
    "'''\n",
    "print(tSep_s, tTskMsg_s, 'Res:', tSep_s, sep='\\n')\n",
    "\n",
    "tChe_i, tPtt_s = 12532799865, '5'\n",
    "tPos_i = str(tChe_i).find(tPtt_s)\n",
    "if tPos_i == -1:\n",
    "  print(f\"No '{tPtt_s}' in Number:{tChe_i}\")\n",
    "else:\n",
    "  print(f\"Digit:'{tPtt_s}' exist in Number:{tChe_i} in most left position:{tPos_i}\")\n",
    "\n",
    "print(tSep_s)"
   ]
  },
  {
   "cell_type": "code",
   "execution_count": 71,
   "metadata": {},
   "outputs": [
    {
     "name": "stdout",
     "output_type": "stream",
     "text": [
      "______________________________________________________________________\n",
      "\n",
      "Задача 9\n",
      "\n",
      "Найти максимальную цифру в числе\n",
      "\n",
      "Res:\n",
      "______________________________________________________________________\n",
      "Max digit in Number:56401829 is 9\n",
      "______________________________________________________________________\n"
     ]
    }
   ],
   "source": [
    "tTskMsg_s = '''\n",
    "Задача 9\n",
    "\n",
    "Найти максимальную цифру в числе\n",
    "'''\n",
    "print(tSep_s, tTskMsg_s, 'Res:', tSep_s, sep='\\n')\n",
    "\n",
    "tChe_i = 56401829\n",
    "print(f'Max digit in Number:{tChe_i} is {max(int(_s1) for _s1 in str(tChe_i))}')\n",
    "\n",
    "print(tSep_s)"
   ]
  },
  {
   "cell_type": "code",
   "execution_count": 69,
   "metadata": {},
   "outputs": [
    {
     "name": "stdout",
     "output_type": "stream",
     "text": [
      "______________________________________________________________________\n",
      "\n",
      "Задача 10\n",
      "\n",
      "Найти количество цифр 5 в числе\n",
      "\n",
      "Res:\n",
      "______________________________________________________________________\n",
      "Digit:'5' exist in Number:12352579986 2 times\n",
      "______________________________________________________________________\n"
     ]
    }
   ],
   "source": [
    "tTskMsg_s = '''\n",
    "Задача 10\n",
    "\n",
    "Найти количество цифр 5 в числе\n",
    "'''\n",
    "print(tSep_s, tTskMsg_s, 'Res:', tSep_s, sep='\\n')\n",
    "\n",
    "tChe_i, tPtt_s = 12352579986, '5'\n",
    "tCo_i = str(tChe_i).count(tPtt_s)\n",
    "if tCo_i == 0:\n",
    "  print(f\"No '{tPtt_s}' in Number:{tChe_i}\")\n",
    "else:\n",
    "  t_s = '' if tCo_i == 1 else 's'\n",
    "  print(f\"Digit:'{tPtt_s}' exist in Number:{tChe_i} {tCo_i} time{t_s}\")\n",
    "\n",
    "print(tSep_s)"
   ]
  },
  {
   "cell_type": "markdown",
   "metadata": {},
   "source": [
    "### CuW"
   ]
  }
 ],
 "metadata": {
  "interpreter": {
   "hash": "b3ba2566441a7c06988d0923437866b63cedc61552a5af99d1f4fb67d367b25f"
  },
  "kernelspec": {
   "display_name": "Python 3.9.7 64-bit ('base': conda)",
   "language": "python",
   "name": "python3"
  },
  "language_info": {
   "codemirror_mode": {
    "name": "ipython",
    "version": 3
   },
   "file_extension": ".py",
   "mimetype": "text/x-python",
   "name": "python",
   "nbconvert_exporter": "python",
   "pygments_lexer": "ipython3",
   "version": "3.9.7"
  },
  "orig_nbformat": 4
 },
 "nbformat": 4,
 "nbformat_minor": 2
}
