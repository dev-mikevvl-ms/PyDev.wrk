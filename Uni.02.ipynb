{
 "cells": [
  {
   "cell_type": "code",
   "execution_count": 6,
   "metadata": {},
   "outputs": [
    {
     "name": "stdout",
     "output_type": "stream",
     "text": [
      "sys:\n",
      "3.9.7 (default, Sep 16 2021, 16:59:28) [MSC v.1916 64 bit (AMD64)]\n",
      "sys.version_info(major=3, minor=9, micro=7, releaselevel='final', serial=0)\n",
      "1013\n",
      "C:\\ProgramData\\Anaconda3\n",
      "C:\\ProgramData\\Anaconda3\n",
      "\n",
      "site:\n",
      "['C:\\\\ProgramData\\\\Anaconda3', 'C:\\\\ProgramData\\\\Anaconda3\\\\lib\\\\site-packages']\n",
      "C:\\Users\\mikev\\AppData\\Roaming\\Python\\Python39\\site-packages\n",
      "C:\\Users\\mikev\\AppData\\Roaming\\Python\n"
     ]
    }
   ],
   "source": [
    "import sys, site\n",
    "print('sys:', sys.version, sys.version_info, sys.api_version, sys.prefix, sys.exec_prefix, '\\nsite:',\n",
    "    site.getsitepackages(), site.getusersitepackages(), site.getuserbase(), sep='\\n')"
   ]
  },
  {
   "cell_type": "code",
   "execution_count": 1,
   "metadata": {},
   "outputs": [],
   "source": [
    "import requests\n",
    "import json\n",
    "from flask import Flask\n",
    "\n",
    "\n",
    "def get_valutes_list():\n",
    "    url = 'https://www.cbr-xml-daily.ru/daily_json.js'\n",
    "    response = requests.get(url)\n",
    "    data = json.loads(response.text)\n",
    "    valutes = list(data['Valute'].values())\n",
    "    return valutes\n",
    "\n",
    "# test\n",
    "app = Flask(__name__)\n",
    "\n",
    "\n",
    "def create_html(valutes):\n",
    "    text = '<h1>Курс валют</h1>'\n",
    "    text += '<table>'\n",
    "    text += '<tr>'\n",
    "    for _ in valutes[0]:\n",
    "        text += f'<th><th>'\n",
    "    text += '</tr>'\n",
    "    for valute in valutes:\n",
    "        text += '<tr>'\n",
    "        for v in valute.values():\n",
    "            text += f'<td>{v}</td>'\n",
    "        text += '</tr>'\n",
    "\n",
    "    text += '</table>'\n",
    "    return text\n",
    "\n",
    "\n",
    "@app.route(\"/\")\n",
    "def index():\n",
    "    valutes = get_valutes_list()\n",
    "    html = create_html(valutes)\n",
    "    return html\n",
    "\n",
    "\n",
    "# if __name__ == \"__main__\":\n",
    "#     app.run()"
   ]
  },
  {
   "cell_type": "code",
   "execution_count": 2,
   "metadata": {},
   "outputs": [
    {
     "ename": "NameError",
     "evalue": "name 'data' is not defined",
     "output_type": "error",
     "traceback": [
      "\u001b[1;31m---------------------------------------------------------------------------\u001b[0m",
      "\u001b[1;31mNameError\u001b[0m                                 Traceback (most recent call last)",
      "\u001b[1;32mC:\\Temp/ipykernel_14072/391604064.py\u001b[0m in \u001b[0;36m<module>\u001b[1;34m\u001b[0m\n\u001b[1;32m----> 1\u001b[1;33m \u001b[0mdata\u001b[0m\u001b[1;33m\u001b[0m\u001b[1;33m\u001b[0m\u001b[0m\n\u001b[0m",
      "\u001b[1;31mNameError\u001b[0m: name 'data' is not defined"
     ]
    }
   ],
   "source": [
    "    url = 'https://www.cbr-xml-daily.ru/daily_json.js'\n",
    "    response = requests.get(url)\n",
    "    data = json.loads(response.text)\n",
    "    valutes = list(data['Valute'].values())\n"
   ]
  }
 ],
 "metadata": {
  "interpreter": {
   "hash": "b3ba2566441a7c06988d0923437866b63cedc61552a5af99d1f4fb67d367b25f"
  },
  "kernelspec": {
   "display_name": "Python 3.9.7 64-bit ('base': conda)",
   "language": "python",
   "name": "python3"
  },
  "language_info": {
   "codemirror_mode": {
    "name": "ipython",
    "version": 3
   },
   "file_extension": ".py",
   "mimetype": "text/x-python",
   "name": "python",
   "nbconvert_exporter": "python",
   "pygments_lexer": "ipython3",
   "version": "3.9.7"
  },
  "orig_nbformat": 4
 },
 "nbformat": 4,
 "nbformat_minor": 2
}
